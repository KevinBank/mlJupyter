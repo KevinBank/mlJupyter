{
 "cells": [
  {
   "cell_type": "markdown",
   "metadata": {},
   "source": [
    "# Imports"
   ]
  },
  {
   "cell_type": "code",
   "execution_count": null,
   "metadata": {},
   "outputs": [],
   "source": [
    "import numpy\n",
    "from tensorflow import keras\n",
    "from keras.models import Sequential\n",
    "from keras.layers import Dense, Dropout, Flatten, BatchNormalization, Activation\n",
    "from keras.layers.convolutional import Conv2D, MaxPooling2D\n",
    "from keras.constraints import maxnorm\n",
    "from keras.utils import np_utils\n",
    "from matplotlib import pyplot as plt\n",
    "import matplotlib.pyplot as plt\n",
    "\n",
    "seed = 21\n",
    "\n",
    "from keras.datasets import cifar10"
   ]
  },
  {
   "cell_type": "code",
   "execution_count": 6,
   "metadata": {},
   "outputs": [],
   "source": [
    "# loading in the data\n",
    "(X_train, y_train), (X_test, y_test) = cifar10.load_data()"
   ]
  },
  {
   "cell_type": "code",
   "execution_count": 7,
   "metadata": {},
   "outputs": [],
   "source": [
    "# normalize the inputs from 0-255 to between 0 and 1 by dividing by 255\n",
    "X_train = X_train.astype('float32')\n",
    "X_test = X_test.astype('float32')\n",
    "X_train = X_train / 255.0\n",
    "X_test = X_test / 255.0"
   ]
  },
  {
   "cell_type": "code",
   "execution_count": 8,
   "metadata": {},
   "outputs": [],
   "source": [
    "# one hot encode outputs\n",
    "y_train = np_utils.to_categorical(y_train)\n",
    "y_test = np_utils.to_categorical(y_test)\n",
    "class_num = y_test.shape[1]"
   ]
  },
  {
   "cell_type": "code",
   "execution_count": 9,
   "metadata": {},
   "outputs": [],
   "source": [
    "model = Sequential()\n",
    "\n",
    "model.add(Conv2D(32, (3, 3), input_shape=X_train.shape[1:], padding='same'))\n",
    "model.add(Activation('relu'))\n",
    "model.add(Dropout(0.2))\n",
    "model.add(BatchNormalization())\n",
    "\n",
    "model.add(Conv2D(32, (3, 3), padding='same'))\n",
    "model.add(Activation('relu'))\n",
    "model.add(MaxPooling2D(pool_size=(2, 2)))\n",
    "model.add(Dropout(0.2))\n",
    "model.add(BatchNormalization())\n",
    "\n",
    "model.add(Conv2D(64, (3, 3), padding='same'))\n",
    "model.add(Activation('relu'))\n",
    "model.add(MaxPooling2D(pool_size=(2, 2)))\n",
    "model.add(Dropout(0.2))\n",
    "model.add(BatchNormalization())\n",
    "    \n",
    "model.add(Conv2D(128, (3, 3), padding='same'))\n",
    "model.add(Activation('relu'))\n",
    "model.add(Dropout(0.2))\n",
    "model.add(BatchNormalization())\n",
    "\n",
    "model.add(Flatten())\n",
    "model.add(Dropout(0.2))\n",
    "\n",
    "model.add(Dense(256, kernel_constraint=maxnorm(3)))\n",
    "model.add(Activation('relu'))\n",
    "model.add(Dropout(0.2))\n",
    "model.add(BatchNormalization())\n",
    "    \n",
    "model.add(Dense(128, kernel_constraint=maxnorm(3)))\n",
    "model.add(Activation('relu'))\n",
    "model.add(Dropout(0.2))\n",
    "model.add(BatchNormalization())\n",
    "\n",
    "model.add(Dense(class_num))\n",
    "model.add(Activation('softmax'))"
   ]
  },
  {
   "cell_type": "code",
   "execution_count": 10,
   "metadata": {},
   "outputs": [],
   "source": [
    "epochs = 25\n",
    "optimizer = 'adam'"
   ]
  },
  {
   "cell_type": "code",
   "execution_count": 11,
   "metadata": {},
   "outputs": [],
   "source": [
    "model.compile(loss='categorical_crossentropy', optimizer=optimizer, metrics=['accuracy'])"
   ]
  },
  {
   "cell_type": "code",
   "execution_count": 12,
   "metadata": {
    "scrolled": false
   },
   "outputs": [
    {
     "name": "stdout",
     "output_type": "stream",
     "text": [
      "Model: \"sequential\"\n",
      "_________________________________________________________________\n",
      "Layer (type)                 Output Shape              Param #   \n",
      "=================================================================\n",
      "conv2d (Conv2D)              (None, 32, 32, 32)        896       \n",
      "_________________________________________________________________\n",
      "activation (Activation)      (None, 32, 32, 32)        0         \n",
      "_________________________________________________________________\n",
      "dropout (Dropout)            (None, 32, 32, 32)        0         \n",
      "_________________________________________________________________\n",
      "batch_normalization (BatchNo (None, 32, 32, 32)        128       \n",
      "_________________________________________________________________\n",
      "conv2d_1 (Conv2D)            (None, 32, 32, 32)        9248      \n",
      "_________________________________________________________________\n",
      "activation_1 (Activation)    (None, 32, 32, 32)        0         \n",
      "_________________________________________________________________\n",
      "max_pooling2d (MaxPooling2D) (None, 16, 16, 32)        0         \n",
      "_________________________________________________________________\n",
      "dropout_1 (Dropout)          (None, 16, 16, 32)        0         \n",
      "_________________________________________________________________\n",
      "batch_normalization_1 (Batch (None, 16, 16, 32)        128       \n",
      "_________________________________________________________________\n",
      "conv2d_2 (Conv2D)            (None, 16, 16, 64)        18496     \n",
      "_________________________________________________________________\n",
      "activation_2 (Activation)    (None, 16, 16, 64)        0         \n",
      "_________________________________________________________________\n",
      "max_pooling2d_1 (MaxPooling2 (None, 8, 8, 64)          0         \n",
      "_________________________________________________________________\n",
      "dropout_2 (Dropout)          (None, 8, 8, 64)          0         \n",
      "_________________________________________________________________\n",
      "batch_normalization_2 (Batch (None, 8, 8, 64)          256       \n",
      "_________________________________________________________________\n",
      "conv2d_3 (Conv2D)            (None, 8, 8, 128)         73856     \n",
      "_________________________________________________________________\n",
      "activation_3 (Activation)    (None, 8, 8, 128)         0         \n",
      "_________________________________________________________________\n",
      "dropout_3 (Dropout)          (None, 8, 8, 128)         0         \n",
      "_________________________________________________________________\n",
      "batch_normalization_3 (Batch (None, 8, 8, 128)         512       \n",
      "_________________________________________________________________\n",
      "flatten (Flatten)            (None, 8192)              0         \n",
      "_________________________________________________________________\n",
      "dropout_4 (Dropout)          (None, 8192)              0         \n",
      "_________________________________________________________________\n",
      "dense (Dense)                (None, 256)               2097408   \n",
      "_________________________________________________________________\n",
      "activation_4 (Activation)    (None, 256)               0         \n",
      "_________________________________________________________________\n",
      "dropout_5 (Dropout)          (None, 256)               0         \n",
      "_________________________________________________________________\n",
      "batch_normalization_4 (Batch (None, 256)               1024      \n",
      "_________________________________________________________________\n",
      "dense_1 (Dense)              (None, 128)               32896     \n",
      "_________________________________________________________________\n",
      "activation_5 (Activation)    (None, 128)               0         \n",
      "_________________________________________________________________\n",
      "dropout_6 (Dropout)          (None, 128)               0         \n",
      "_________________________________________________________________\n",
      "batch_normalization_5 (Batch (None, 128)               512       \n",
      "_________________________________________________________________\n",
      "dense_2 (Dense)              (None, 10)                1290      \n",
      "_________________________________________________________________\n",
      "activation_6 (Activation)    (None, 10)                0         \n",
      "=================================================================\n",
      "Total params: 2,236,650\n",
      "Trainable params: 2,235,370\n",
      "Non-trainable params: 1,280\n",
      "_________________________________________________________________\n",
      "None\n",
      "Epoch 1/25\n",
      "782/782 [==============================] - 156s 197ms/step - loss: 1.8105 - accuracy: 0.3724 - val_loss: 1.3827 - val_accuracy: 0.5004\n",
      "Epoch 2/25\n",
      "782/782 [==============================] - 158s 202ms/step - loss: 1.1727 - accuracy: 0.5816 - val_loss: 0.9910 - val_accuracy: 0.6537\n",
      "Epoch 3/25\n",
      "782/782 [==============================] - 160s 204ms/step - loss: 0.9384 - accuracy: 0.6689 - val_loss: 0.7635 - val_accuracy: 0.7310\n",
      "Epoch 4/25\n",
      "782/782 [==============================] - 163s 208ms/step - loss: 0.8090 - accuracy: 0.7165 - val_loss: 0.7130 - val_accuracy: 0.7487\n",
      "Epoch 5/25\n",
      "782/782 [==============================] - 161s 206ms/step - loss: 0.7203 - accuracy: 0.7438 - val_loss: 0.7314 - val_accuracy: 0.7451\n",
      "Epoch 6/25\n",
      "782/782 [==============================] - 159s 203ms/step - loss: 0.6862 - accuracy: 0.7595 - val_loss: 0.6368 - val_accuracy: 0.7795\n",
      "Epoch 7/25\n",
      "782/782 [==============================] - 165s 211ms/step - loss: 0.6457 - accuracy: 0.7738 - val_loss: 0.7192 - val_accuracy: 0.7499\n",
      "Epoch 8/25\n",
      "782/782 [==============================] - 164s 209ms/step - loss: 0.6132 - accuracy: 0.7871 - val_loss: 0.6134 - val_accuracy: 0.7875\n",
      "Epoch 9/25\n",
      "782/782 [==============================] - 164s 210ms/step - loss: 0.5809 - accuracy: 0.7957 - val_loss: 0.5898 - val_accuracy: 0.7951\n",
      "Epoch 10/25\n",
      "782/782 [==============================] - 161s 205ms/step - loss: 0.5555 - accuracy: 0.8070 - val_loss: 0.5954 - val_accuracy: 0.7901\n",
      "Epoch 11/25\n",
      "782/782 [==============================] - 158s 202ms/step - loss: 0.5459 - accuracy: 0.8112 - val_loss: 0.7257 - val_accuracy: 0.7468\n",
      "Epoch 12/25\n",
      "782/782 [==============================] - 139s 177ms/step - loss: 0.5326 - accuracy: 0.8152 - val_loss: 0.5625 - val_accuracy: 0.8046\n",
      "Epoch 13/25\n",
      "782/782 [==============================] - 148s 190ms/step - loss: 0.5200 - accuracy: 0.8175 - val_loss: 0.5708 - val_accuracy: 0.8011\n",
      "Epoch 14/25\n",
      "782/782 [==============================] - 163s 208ms/step - loss: 0.5075 - accuracy: 0.8238 - val_loss: 0.6293 - val_accuracy: 0.7879\n",
      "Epoch 15/25\n",
      "782/782 [==============================] - 165s 211ms/step - loss: 0.4813 - accuracy: 0.8309 - val_loss: 0.6083 - val_accuracy: 0.7958\n",
      "Epoch 16/25\n",
      "782/782 [==============================] - 165s 211ms/step - loss: 0.4855 - accuracy: 0.8306 - val_loss: 0.5353 - val_accuracy: 0.8190\n",
      "Epoch 17/25\n",
      "782/782 [==============================] - 160s 204ms/step - loss: 0.4798 - accuracy: 0.8330 - val_loss: 0.6055 - val_accuracy: 0.7976\n",
      "Epoch 18/25\n",
      "782/782 [==============================] - 165s 211ms/step - loss: 0.4731 - accuracy: 0.8356 - val_loss: 0.5594 - val_accuracy: 0.8127\n",
      "Epoch 19/25\n",
      "782/782 [==============================] - 159s 203ms/step - loss: 0.4506 - accuracy: 0.8428 - val_loss: 0.5390 - val_accuracy: 0.8134\n",
      "Epoch 20/25\n",
      "782/782 [==============================] - 165s 211ms/step - loss: 0.4441 - accuracy: 0.8456 - val_loss: 0.5376 - val_accuracy: 0.8158\n",
      "Epoch 21/25\n",
      "782/782 [==============================] - 160s 205ms/step - loss: 0.4407 - accuracy: 0.8454 - val_loss: 0.5556 - val_accuracy: 0.8125\n",
      "Epoch 22/25\n",
      "782/782 [==============================] - 165s 212ms/step - loss: 0.4427 - accuracy: 0.8447 - val_loss: 0.5859 - val_accuracy: 0.7992\n",
      "Epoch 23/25\n",
      "782/782 [==============================] - 168s 215ms/step - loss: 0.4293 - accuracy: 0.8493 - val_loss: 0.5668 - val_accuracy: 0.8114\n",
      "Epoch 24/25\n",
      "782/782 [==============================] - 170s 218ms/step - loss: 0.4273 - accuracy: 0.8476 - val_loss: 0.5872 - val_accuracy: 0.8058\n",
      "Epoch 25/25\n",
      "782/782 [==============================] - 163s 209ms/step - loss: 0.4487 - accuracy: 0.8429 - val_loss: 0.5423 - val_accuracy: 0.8159\n"
     ]
    }
   ],
   "source": [
    "print(model.summary())\n",
    "numpy.random.seed(seed)\n",
    "history = model.fit(X_train, y_train, validation_data=(X_test, y_test), epochs=epochs, batch_size=64)"
   ]
  },
  {
   "cell_type": "code",
   "execution_count": 13,
   "metadata": {
    "scrolled": true
   },
   "outputs": [
    {
     "name": "stdout",
     "output_type": "stream",
     "text": [
      "Accuracy: 81.59%\n"
     ]
    }
   ],
   "source": [
    "scores = model.evaluate(X_test, y_test, verbose=0)\n",
    "print(\"Accuracy: %.2f%%\" % (scores[1]*100))"
   ]
  },
  {
   "cell_type": "code",
   "execution_count": 14,
   "metadata": {},
   "outputs": [
    {
     "data": {
      "image/png": "[encoded data removed]",
      "text/plain": [
       "<Figure size 432x288 with 1 Axes>"
      ]
     },
     "metadata": {
      "needs_background": "light"
     },
     "output_type": "display_data"
    },
    {
     "data": {
      "image/png": "[encoded data removed]",
      "text/plain": [
       "<Figure size 432x288 with 1 Axes>"
      ]
     },
     "metadata": {
      "needs_background": "light"
     },
     "output_type": "display_data"
    }
   ],
   "source": [
    "# summarize history for accuracy\n",
    "plt.plot(history.history['accuracy'])\n",
    "plt.plot(history.history['val_accuracy'])\n",
    "plt.title('model accuracy')\n",
    "plt.ylabel('accuracy')\n",
    "plt.xlabel('epoch')\n",
    "plt.legend(['train', 'test'], loc='upper left')\n",
    "plt.show()\n",
    "# summarize history for loss\n",
    "plt.plot(history.history['loss'])\n",
    "plt.plot(history.history['val_loss'])\n",
    "plt.title('model loss')\n",
    "plt.ylabel('loss')\n",
    "plt.xlabel('epoch')\n",
    "plt.legend(['train', 'test'], loc='upper left')\n",
    "plt.show()"
   ]
  },
  {
   "cell_type": "code",
   "execution_count": 37,
   "metadata": {
    "scrolled": true
   },
   "outputs": [],
   "source": [
    "model.save(\"model.h5\")"
   ]
  },
  {
   "cell_type": "code",
   "execution_count": 12,
   "metadata": {
    "scrolled": true
   },
   "outputs": [],
   "source": [
    "model.load_weights(\"model.h5\")"
   ]
  },
  {
   "cell_type": "markdown",
   "metadata": {},
   "source": [
    "0: airplane\n",
    "1: automobile\n",
    "2: bird\n",
    "3: cat\n",
    "4: deer\n",
    "5: dog\n",
    "6: frog\n",
    "7: horse\n",
    "8: ship\n",
    "9: truck"
   ]
  },
  {
   "cell_type": "code",
   "execution_count": null,
   "metadata": {},
   "outputs": [],
   "source": [
    "# make a prediction for a new image.\n",
    "from keras.preprocessing.image import load_img\n",
    "from keras.preprocessing.image import img_to_array\n",
    "from keras.models import load_model\n",
    "\n",
    "# load and prepare the image\n",
    "def load_image(filename):\n",
    "\t# load the image\n",
    "\timg = load_img(filename, target_size=(32, 32))\n",
    "\t# convert to array\n",
    "\timg = img_to_array(img)\n",
    "\t# reshape into a single sample with 3 channels\n",
    "\timg = img.reshape(1, 32, 32, 3)\n",
    "\t# prepare pixel data\n",
    "\timg = img.astype('float32')\n",
    "\timg = img / 255.0\n",
    "\treturn img\n",
    "\n",
    "# load an image and predict the class\n",
    "def run_example():\n",
    "\t# load the image\n",
    "\timg = load_image('sample_image2.png')\n",
    "\t# load model\n",
    "\tmodel = load_model('model.h5')\n",
    "\t# predict the class\n",
    "\tresult = model.predict_classes(img)\n",
    "\tprint(result[0])\n",
    "\n",
    "# entry point, run the example\n",
    "run_example()"
   ]
  },
  {
   "cell_type": "code",
   "execution_count": null,
   "metadata": {},
   "outputs": [],
   "source": []
  },
  {
   "cell_type": "code",
   "execution_count": null,
   "metadata": {},
   "outputs": [],
   "source": []
  },
  {
   "cell_type": "code",
   "execution_count": null,
   "metadata": {},
   "outputs": [],
   "source": []
  },
  {
   "cell_type": "code",
   "execution_count": null,
   "metadata": {},
   "outputs": [],
   "source": []
  },
  {
   "cell_type": "code",
   "execution_count": null,
   "metadata": {},
   "outputs": [],
   "source": []
  },
  {
   "cell_type": "code",
   "execution_count": null,
   "metadata": {},
   "outputs": [],
   "source": []
  }
 ],
 "metadata": {
  "kernelspec": {
   "display_name": "Python 3",
   "language": "python",
   "name": "python3"
  },
  "language_info": {
   "codemirror_mode": {
    "name": "ipython",
    "version": 3
   },
   "file_extension": ".py",
   "mimetype": "text/x-python",
   "name": "python",
   "nbconvert_exporter": "python",
   "pygments_lexer": "ipython3",
   "version": "3.8.5"
  }
 },
 "nbformat": 4,
 "nbformat_minor": 4
}
