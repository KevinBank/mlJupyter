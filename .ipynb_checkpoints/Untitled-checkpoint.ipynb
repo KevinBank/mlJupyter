{
 "cells": [
  {
   "cell_type": "markdown",
   "metadata": {},
   "source": [
    "# Imports"
   ]
  },
  {
   "cell_type": "code",
   "execution_count": 1,
   "metadata": {},
   "outputs": [],
   "source": [
    "import numpy\n",
    "from tensorflow import keras\n",
    "from keras.models import Sequential\n",
    "from keras.layers import Dense, Dropout, Flatten, BatchNormalization, Activation\n",
    "from keras.layers.convolutional import Conv2D, MaxPooling2D\n",
    "from keras.constraints import maxnorm\n",
    "from keras.utils import np_utils\n",
    "from matplotlib import pyplot as plt\n",
    "import matplotlib.pyplot as plt\n",
    "\n",
    "seed = 21\n",
    "\n",
    "from keras.datasets import cifar10"
   ]
  },
  {
   "cell_type": "code",
   "execution_count": 2,
   "metadata": {},
   "outputs": [],
   "source": [
    "# loading in the data\n",
    "(X_train, y_train), (X_test, y_test) = cifar10.load_data()"
   ]
  },
  {
   "cell_type": "code",
   "execution_count": 3,
   "metadata": {},
   "outputs": [],
   "source": [
    "# normalize the inputs from 0-255 to between 0 and 1 by dividing by 255\n",
    "X_train = X_train.astype('float32')\n",
    "X_test = X_test.astype('float32')\n",
    "X_train = X_train / 255.0\n",
    "X_test = X_test / 255.0"
   ]
  },
  {
   "cell_type": "code",
   "execution_count": 4,
   "metadata": {},
   "outputs": [],
   "source": [
    "# one hot encode outputs\n",
    "y_train = np_utils.to_categorical(y_train)\n",
    "y_test = np_utils.to_categorical(y_test)\n",
    "class_num = y_test.shape[1]"
   ]
  },
  {
   "cell_type": "code",
   "execution_count": 5,
   "metadata": {},
   "outputs": [],
   "source": [
    "model = Sequential()\n",
    "\n",
    "model.add(Conv2D(32, (3, 3), input_shape=X_train.shape[1:], padding='same'))\n",
    "model.add(Activation('relu'))\n",
    "model.add(Dropout(0.2))\n",
    "model.add(BatchNormalization())\n",
    "\n",
    "model.add(Conv2D(64, (3, 3), padding='same'))\n",
    "model.add(Activation('relu'))\n",
    "model.add(MaxPooling2D(pool_size=(2, 2)))\n",
    "model.add(Dropout(0.2))\n",
    "model.add(BatchNormalization())\n",
    "\n",
    "model.add(Conv2D(128, (3, 3), padding='same'))\n",
    "model.add(Activation('relu'))\n",
    "model.add(Dropout(0.2))\n",
    "model.add(BatchNormalization())\n",
    "\n",
    "model.add(Flatten())\n",
    "model.add(Dropout(0.2))\n",
    "\n",
    "model.add(Dense(256, kernel_constraint=maxnorm(3)))\n",
    "model.add(Activation('relu'))\n",
    "model.add(Dropout(0.2))\n",
    "model.add(BatchNormalization())\n",
    "    \n",
    "model.add(Dense(128, kernel_constraint=maxnorm(3)))\n",
    "model.add(Activation('relu'))\n",
    "model.add(Dropout(0.2))\n",
    "model.add(BatchNormalization())\n",
    "\n",
    "model.add(Dense(class_num))\n",
    "model.add(Activation('softmax'))"
   ]
  },
  {
   "cell_type": "code",
   "execution_count": 6,
   "metadata": {},
   "outputs": [],
   "source": [
    "epochs = 25\n",
    "optimizer = 'adam'"
   ]
  },
  {
   "cell_type": "code",
   "execution_count": 7,
   "metadata": {},
   "outputs": [],
   "source": [
    "model.compile(loss='categorical_crossentropy', optimizer=optimizer, metrics=['accuracy'])"
   ]
  },
  {
   "cell_type": "code",
   "execution_count": 8,
   "metadata": {
    "scrolled": false
   },
   "outputs": [
    {
     "name": "stdout",
     "output_type": "stream",
     "text": [
      "Model: \"sequential\"\n",
      "_________________________________________________________________\n",
      "Layer (type)                 Output Shape              Param #   \n",
      "=================================================================\n",
      "conv2d (Conv2D)              (None, 32, 32, 32)        896       \n",
      "_________________________________________________________________\n",
      "activation (Activation)      (None, 32, 32, 32)        0         \n",
      "_________________________________________________________________\n",
      "dropout (Dropout)            (None, 32, 32, 32)        0         \n",
      "_________________________________________________________________\n",
      "batch_normalization (BatchNo (None, 32, 32, 32)        128       \n",
      "_________________________________________________________________\n",
      "conv2d_1 (Conv2D)            (None, 32, 32, 64)        18496     \n",
      "_________________________________________________________________\n",
      "activation_1 (Activation)    (None, 32, 32, 64)        0         \n",
      "_________________________________________________________________\n",
      "max_pooling2d (MaxPooling2D) (None, 16, 16, 64)        0         \n",
      "_________________________________________________________________\n",
      "dropout_1 (Dropout)          (None, 16, 16, 64)        0         \n",
      "_________________________________________________________________\n",
      "batch_normalization_1 (Batch (None, 16, 16, 64)        256       \n",
      "_________________________________________________________________\n",
      "conv2d_2 (Conv2D)            (None, 16, 16, 128)       73856     \n",
      "_________________________________________________________________\n",
      "activation_2 (Activation)    (None, 16, 16, 128)       0         \n",
      "_________________________________________________________________\n",
      "dropout_2 (Dropout)          (None, 16, 16, 128)       0         \n",
      "_________________________________________________________________\n",
      "batch_normalization_2 (Batch (None, 16, 16, 128)       512       \n",
      "_________________________________________________________________\n",
      "flatten (Flatten)            (None, 32768)             0         \n",
      "_________________________________________________________________\n",
      "dropout_3 (Dropout)          (None, 32768)             0         \n",
      "_________________________________________________________________\n",
      "dense (Dense)                (None, 256)               8388864   \n",
      "_________________________________________________________________\n",
      "activation_3 (Activation)    (None, 256)               0         \n",
      "_________________________________________________________________\n",
      "dropout_4 (Dropout)          (None, 256)               0         \n",
      "_________________________________________________________________\n",
      "batch_normalization_3 (Batch (None, 256)               1024      \n",
      "_________________________________________________________________\n",
      "dense_1 (Dense)              (None, 128)               32896     \n",
      "_________________________________________________________________\n",
      "activation_4 (Activation)    (None, 128)               0         \n",
      "_________________________________________________________________\n",
      "dropout_5 (Dropout)          (None, 128)               0         \n",
      "_________________________________________________________________\n",
      "batch_normalization_4 (Batch (None, 128)               512       \n",
      "_________________________________________________________________\n",
      "dense_2 (Dense)              (None, 10)                1290      \n",
      "_________________________________________________________________\n",
      "activation_5 (Activation)    (None, 10)                0         \n",
      "=================================================================\n",
      "Total params: 8,518,730\n",
      "Trainable params: 8,517,514\n",
      "Non-trainable params: 1,216\n",
      "_________________________________________________________________\n",
      "None\n",
      "Epoch 1/25\n",
      "782/782 [==============================] - 207s 263ms/step - loss: 1.7000 - accuracy: 0.4139 - val_loss: 1.2036 - val_accuracy: 0.5790\n",
      "Epoch 2/25\n",
      "782/782 [==============================] - 209s 267ms/step - loss: 0.9809 - accuracy: 0.6523 - val_loss: 0.8527 - val_accuracy: 0.6996\n",
      "Epoch 3/25\n",
      "782/782 [==============================] - 208s 266ms/step - loss: 0.8183 - accuracy: 0.7118 - val_loss: 0.8919 - val_accuracy: 0.6784\n",
      "Epoch 4/25\n",
      "782/782 [==============================] - 210s 268ms/step - loss: 0.7607 - accuracy: 0.7325 - val_loss: 0.7806 - val_accuracy: 0.7222\n",
      "Epoch 5/25\n",
      "782/782 [==============================] - 210s 269ms/step - loss: 0.7232 - accuracy: 0.7455 - val_loss: 0.7915 - val_accuracy: 0.7239\n",
      "Epoch 6/25\n",
      "782/782 [==============================] - 210s 269ms/step - loss: 0.6915 - accuracy: 0.7580 - val_loss: 0.7464 - val_accuracy: 0.7355\n",
      "Epoch 7/25\n",
      "782/782 [==============================] - 210s 268ms/step - loss: 0.6657 - accuracy: 0.7674 - val_loss: 0.7326 - val_accuracy: 0.7446\n",
      "Epoch 8/25\n",
      "782/782 [==============================] - 212s 271ms/step - loss: 0.6507 - accuracy: 0.7733 - val_loss: 0.7400 - val_accuracy: 0.7445\n",
      "Epoch 9/25\n",
      "782/782 [==============================] - 209s 267ms/step - loss: 0.6207 - accuracy: 0.7838 - val_loss: 0.6663 - val_accuracy: 0.7652\n",
      "Epoch 10/25\n",
      "782/782 [==============================] - 212s 271ms/step - loss: 0.6037 - accuracy: 0.7928 - val_loss: 0.6649 - val_accuracy: 0.7673\n",
      "Epoch 11/25\n",
      "782/782 [==============================] - 209s 268ms/step - loss: 0.5850 - accuracy: 0.7985 - val_loss: 0.8010 - val_accuracy: 0.7239\n",
      "Epoch 12/25\n",
      "782/782 [==============================] - 210s 268ms/step - loss: 0.5921 - accuracy: 0.7948 - val_loss: 0.7038 - val_accuracy: 0.7550\n",
      "Epoch 13/25\n",
      "782/782 [==============================] - 210s 269ms/step - loss: 0.5645 - accuracy: 0.8041 - val_loss: 0.7042 - val_accuracy: 0.7550\n",
      "Epoch 14/25\n",
      "782/782 [==============================] - 209s 268ms/step - loss: 0.5600 - accuracy: 0.8074 - val_loss: 0.7586 - val_accuracy: 0.7394\n",
      "Epoch 15/25\n",
      "782/782 [==============================] - 209s 267ms/step - loss: 0.5604 - accuracy: 0.8051 - val_loss: 0.7027 - val_accuracy: 0.7565\n",
      "Epoch 16/25\n",
      "782/782 [==============================] - 208s 266ms/step - loss: 0.5448 - accuracy: 0.8109 - val_loss: 0.6892 - val_accuracy: 0.7604\n",
      "Epoch 17/25\n",
      "782/782 [==============================] - 209s 267ms/step - loss: 0.5425 - accuracy: 0.8107 - val_loss: 0.6362 - val_accuracy: 0.7776\n",
      "Epoch 18/25\n",
      "782/782 [==============================] - 207s 265ms/step - loss: 0.5364 - accuracy: 0.8158 - val_loss: 0.6436 - val_accuracy: 0.7781\n",
      "Epoch 19/25\n",
      "782/782 [==============================] - 212s 271ms/step - loss: 0.5319 - accuracy: 0.8146 - val_loss: 0.6383 - val_accuracy: 0.7776\n",
      "Epoch 20/25\n",
      "782/782 [==============================] - 208s 266ms/step - loss: 0.5026 - accuracy: 0.8246 - val_loss: 0.6402 - val_accuracy: 0.7789\n",
      "Epoch 21/25\n",
      "782/782 [==============================] - 208s 266ms/step - loss: 0.5182 - accuracy: 0.8211 - val_loss: 0.6578 - val_accuracy: 0.7749\n",
      "Epoch 22/25\n",
      "782/782 [==============================] - 208s 265ms/step - loss: 0.5115 - accuracy: 0.8232 - val_loss: 0.5968 - val_accuracy: 0.7978\n",
      "Epoch 23/25\n",
      "782/782 [==============================] - 207s 265ms/step - loss: 0.5090 - accuracy: 0.8241 - val_loss: 0.6987 - val_accuracy: 0.7587\n",
      "Epoch 24/25\n",
      "782/782 [==============================] - 207s 265ms/step - loss: 0.4972 - accuracy: 0.8289 - val_loss: 0.6268 - val_accuracy: 0.7838\n",
      "Epoch 25/25\n",
      "782/782 [==============================] - 208s 266ms/step - loss: 0.5235 - accuracy: 0.8188 - val_loss: 0.6157 - val_accuracy: 0.7865\n"
     ]
    }
   ],
   "source": [
    "print(model.summary())\n",
    "numpy.random.seed(seed)\n",
    "history = model.fit(X_train, y_train, validation_data=(X_test, y_test), epochs=epochs, batch_size=64)"
   ]
  },
  {
   "cell_type": "code",
   "execution_count": 9,
   "metadata": {
    "scrolled": true
   },
   "outputs": [
    {
     "name": "stdout",
     "output_type": "stream",
     "text": [
      "Accuracy: 78.65%\n"
     ]
    }
   ],
   "source": [
    "scores = model.evaluate(X_test, y_test, verbose=0)\n",
    "print(\"Accuracy: %.2f%%\" % (scores[1]*100))"
   ]
  },
  {
   "cell_type": "code",
   "execution_count": 10,
   "metadata": {},
   "outputs": [
    {
     "data": {
      "image/png": "[encoded data removed]",
      "text/plain": [
       "<Figure size 432x288 with 1 Axes>"
      ]
     },
     "metadata": {
      "needs_background": "light"
     },
     "output_type": "display_data"
    },
    {
     "data": {
      "image/png": "[encoded data removed]",
      "text/plain": [
       "<Figure size 432x288 with 1 Axes>"
      ]
     },
     "metadata": {
      "needs_background": "light"
     },
     "output_type": "display_data"
    }
   ],
   "source": [
    "# summarize history for accuracy\n",
    "plt.plot(history.history['accuracy'])\n",
    "plt.plot(history.history['val_accuracy'])\n",
    "plt.title('model accuracy')\n",
    "plt.ylabel('accuracy')\n",
    "plt.xlabel('epoch')\n",
    "plt.legend(['train', 'test'], loc='upper left')\n",
    "plt.show()\n",
    "# summarize history for loss\n",
    "plt.plot(history.history['loss'])\n",
    "plt.plot(history.history['val_loss'])\n",
    "plt.title('model loss')\n",
    "plt.ylabel('loss')\n",
    "plt.xlabel('epoch')\n",
    "plt.legend(['train', 'test'], loc='upper left')\n",
    "plt.show()"
   ]
  },
  {
   "cell_type": "code",
   "execution_count": 11,
   "metadata": {
    "scrolled": true
   },
   "outputs": [],
   "source": [
    "model.save(\"model.h5\")"
   ]
  },
  {
   "cell_type": "code",
   "execution_count": 12,
   "metadata": {
    "scrolled": true
   },
   "outputs": [],
   "source": [
    "model.load_weights(\"model.h5\")"
   ]
  },
  {
   "cell_type": "markdown",
   "metadata": {},
   "source": [
    "0: airplane\n",
    "1: automobile\n",
    "2: bird\n",
    "3: cat\n",
    "4: deer\n",
    "5: dog\n",
    "6: frog\n",
    "7: horse\n",
    "8: ship\n",
    "9: truck"
   ]
  },
  {
   "cell_type": "code",
   "execution_count": 19,
   "metadata": {},
   "outputs": [],
   "source": [
    "# make a prediction for a new image.\n",
    "from keras.preprocessing.image import load_img\n",
    "from keras.preprocessing.image import img_to_array\n",
    "from keras.models import load_model\n",
    "# load model\n",
    "model = load_model('model.h5')"
   ]
  },
  {
   "cell_type": "code",
   "execution_count": 21,
   "metadata": {},
   "outputs": [
    {
     "name": "stdout",
     "output_type": "stream",
     "text": [
      "WARNING:tensorflow:8 out of the last 8 calls to <function Model.make_predict_function.<locals>.predict_function at 0x0000025E8B1D85E0> triggered tf.function retracing. Tracing is expensive and the excessive number of tracings could be due to (1) creating @tf.function repeatedly in a loop, (2) passing tensors with different shapes, (3) passing Python objects instead of tensors. For (1), please define your @tf.function outside of the loop. For (2), @tf.function has experimental_relax_shapes=True option that relaxes argument shapes that can avoid unnecessary retracing. For (3), please refer to https://www.tensorflow.org/guide/function#controlling_retracing and https://www.tensorflow.org/api_docs/python/tf/function for  more details.\n",
      "0\n"
     ]
    }
   ],
   "source": [
    "# load and prepare the image\n",
    "def load_image(filename):\n",
    "\t# load the image\n",
    "\timg = load_img(filename, target_size=(32, 32))\n",
    "\t# convert to array\n",
    "\timg = img_to_array(img)\n",
    "\t# reshape into a single sample with 3 channels\n",
    "\timg = img.reshape(1, 32, 32, 3)\n",
    "\t# prepare pixel data\n",
    "\timg = img.astype('float32')\n",
    "\timg = img / 255.0\n",
    "\treturn img\n",
    "\n",
    "# load an image and predict the class\n",
    "def run_example():\n",
    "\t# load the image\n",
    "\timg = load_image('plane.jpg')\n",
    "\t# load model\n",
    "\t# predict the class\n",
    "\tresult = model.predict_classes(img)\n",
    "\tprint(result[0])\n",
    "\n",
    "# entry point, run the example\n",
    "run_example()"
   ]
  },
  {
   "cell_type": "code",
   "execution_count": null,
   "metadata": {},
   "outputs": [],
   "source": []
  },
  {
   "cell_type": "code",
   "execution_count": null,
   "metadata": {},
   "outputs": [],
   "source": []
  },
  {
   "cell_type": "code",
   "execution_count": null,
   "metadata": {},
   "outputs": [],
   "source": []
  },
  {
   "cell_type": "code",
   "execution_count": null,
   "metadata": {},
   "outputs": [],
   "source": []
  },
  {
   "cell_type": "code",
   "execution_count": null,
   "metadata": {},
   "outputs": [],
   "source": []
  },
  {
   "cell_type": "code",
   "execution_count": null,
   "metadata": {},
   "outputs": [],
   "source": []
  }
 ],
 "metadata": {
  "kernelspec": {
   "display_name": "Python 3",
   "language": "python",
   "name": "python3"
  },
  "language_info": {
   "codemirror_mode": {
    "name": "ipython",
    "version": 3
   },
   "file_extension": ".py",
   "mimetype": "text/x-python",
   "name": "python",
   "nbconvert_exporter": "python",
   "pygments_lexer": "ipython3",
   "version": "3.8.5"
  }
 },
 "nbformat": 4,
 "nbformat_minor": 4
}
